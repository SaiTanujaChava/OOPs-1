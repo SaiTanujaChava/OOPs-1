{
 "cells": [
  {
   "cell_type": "markdown",
   "metadata": {},
   "source": [
    "# Class"
   ]
  },
  {
   "cell_type": "code",
   "execution_count": null,
   "metadata": {},
   "outputs": [],
   "source": [
    "Syntax:\n",
    "class classs_name:\n",
    "    '''Documentation'''\n",
    "    variables:Instance,Static and Local variables\n",
    "    methods:Instance,Static and Class methods\n",
    "        ---------\n",
    "        ---------\n",
    "        ---------\n",
    "    --------\n",
    "    --------"
   ]
  },
  {
   "cell_type": "code",
   "execution_count": 7,
   "metadata": {},
   "outputs": [
    {
     "name": "stdout",
     "output_type": "stream",
     "text": [
      "python oops class\n"
     ]
    }
   ],
   "source": [
    "#example program for class\n",
    "class pythonn:\n",
    "    '''python oops class'''\n",
    "print(pythonn.__doc__)"
   ]
  },
  {
   "cell_type": "code",
   "execution_count": 8,
   "metadata": {},
   "outputs": [
    {
     "name": "stdout",
     "output_type": "stream",
     "text": [
      "Help on class pythonn in module __main__:\n",
      "\n",
      "class pythonn(builtins.object)\n",
      " |  python oops class\n",
      " |  \n",
      " |  Data descriptors defined here:\n",
      " |  \n",
      " |  __dict__\n",
      " |      dictionary for instance variables (if defined)\n",
      " |  \n",
      " |  __weakref__\n",
      " |      list of weak references to the object (if defined)\n",
      "\n"
     ]
    }
   ],
   "source": [
    "help(pythonn)"
   ]
  },
  {
   "cell_type": "code",
   "execution_count": 11,
   "metadata": {},
   "outputs": [
    {
     "name": "stdout",
     "output_type": "stream",
     "text": [
      "Hello I am Tanuja\n",
      "My age is: 21\n",
      "My marks are: 98\n"
     ]
    }
   ],
   "source": [
    "#example of class with variables and methods\n",
    "class student:\n",
    "    '''This is the class of student details'''\n",
    "    def __init__(self):\n",
    "        self.name=\"Tanuja\"\n",
    "        self.age=21\n",
    "        self.marks=98\n",
    "    def details(self):\n",
    "        print(\"Hello I am\",self.name)\n",
    "        print(\"My age is:\",self.age)\n",
    "        print(\"My marks are:\",self.marks)\n",
    "d=student()\n",
    "d.details()"
   ]
  },
  {
   "cell_type": "code",
   "execution_count": 12,
   "metadata": {},
   "outputs": [
    {
     "name": "stdout",
     "output_type": "stream",
     "text": [
      "Hello I am Tanuja\n",
      "My age is: 21\n",
      "My marks are: 98\n"
     ]
    }
   ],
   "source": [
    "#example of class with variables and methods\n",
    "class student:\n",
    "    '''This is the class of student details'''\n",
    "    def __init__(self,name,age,marks):\n",
    "        self.name=name\n",
    "        self.age=age\n",
    "        self.marks=marks\n",
    "    def details(self):\n",
    "        print(\"Hello I am\",self.name)\n",
    "        print(\"My age is:\",self.age)\n",
    "        print(\"My marks are:\",self.marks)\n",
    "d=student(\"Tanuja\",21,98)\n",
    "d.details()"
   ]
  },
  {
   "cell_type": "code",
   "execution_count": 13,
   "metadata": {},
   "outputs": [
    {
     "name": "stdout",
     "output_type": "stream",
     "text": [
      "Constructor execution\n",
      "Method execution\n"
     ]
    }
   ],
   "source": [
    "#program to demonstrate the concept of constructor will be executed only once per object\n",
    "class Test:\n",
    "    def __init__(self):\n",
    "        print(\"Constructor execution\")\n",
    "    def m1(self):\n",
    "        print(\"Method execution\")\n",
    "d1=Test()\n",
    "d1.m1()"
   ]
  },
  {
   "cell_type": "code",
   "execution_count": 16,
   "metadata": {},
   "outputs": [
    {
     "name": "stdout",
     "output_type": "stream",
     "text": [
      "Constructor execution\n",
      "Constructor execution\n",
      "Method execution\n",
      "Method execution\n"
     ]
    }
   ],
   "source": [
    "#program to demonstrate the concept of constructor will be executed only once per object\n",
    "class Test:\n",
    "    def __init__(self):\n",
    "        print(\"Constructor execution\")\n",
    "    def m1(self):\n",
    "        print(\"Method execution\")\n",
    "d1=Test()\n",
    "d2=Test()\n",
    "d1.m1()\n",
    "d2.m1()"
   ]
  },
  {
   "cell_type": "code",
   "execution_count": 34,
   "metadata": {},
   "outputs": [
    {
     "name": "stdout",
     "output_type": "stream",
     "text": [
      "Constructor execution\n",
      "Venky\n",
      "Method execution\n"
     ]
    }
   ],
   "source": [
    "#program to demonstrate the concept of constructor will be executed only once per object\n",
    "class Test:\n",
    "    def __init__(self):\n",
    "        print(\"Constructor execution\")\n",
    "        print(\"Venky\")\n",
    "    def m1(self):\n",
    "        print(\"Method execution\")\n",
    "d1=Test()\n",
    "#d2=Test()\n",
    "d1.m1()\n",
    "#d2.m1()"
   ]
  },
  {
   "cell_type": "code",
   "execution_count": 28,
   "metadata": {},
   "outputs": [
    {
     "name": "stdout",
     "output_type": "stream",
     "text": [
      "Constructor execution\n",
      "Venky\n",
      "Constructor execution\n",
      "Venky\n"
     ]
    }
   ],
   "source": [
    "d3=Test()\n",
    "d3.__init__()"
   ]
  },
  {
   "cell_type": "markdown",
   "metadata": {},
   "source": [
    "# Types of Variables"
   ]
  },
  {
   "cell_type": "markdown",
   "metadata": {},
   "source": [
    "3 types\n",
    "1. Instance variables (object level variables)\n",
    "2. Static variables (class level variables) - write inside class\n",
    "3. Local varaibles (method level variables)"
   ]
  },
  {
   "cell_type": "markdown",
   "metadata": {},
   "source": [
    "## Instance Variables"
   ]
  },
  {
   "cell_type": "markdown",
   "metadata": {},
   "source": [
    "-> If the value of a variable varies from object to object is known as instance variable.\n",
    "\n",
    "-> For each and every object, a separate copy of instance variables will be created.\n",
    "\n",
    "-> These can be declared in 3 diff ways\n",
    "\n",
    "    a) Inside constructor by using self variable.\n",
    "    \n",
    "    b) Inside Instance method by using self variable.\n",
    "    \n",
    "    c) Outside of the class by using object reference variable."
   ]
  },
  {
   "cell_type": "markdown",
   "metadata": {},
   "source": [
    "### a. Inside the constructor by using self variable"
   ]
  },
  {
   "cell_type": "code",
   "execution_count": 2,
   "metadata": {},
   "outputs": [
    {
     "name": "stdout",
     "output_type": "stream",
     "text": [
      "{'eno': 100, 'name': 'Tanuja'}\n"
     ]
    }
   ],
   "source": [
    "class employee:\n",
    "    def __init__(self):\n",
    "        self.eno=100  #instance variable\n",
    "        self.name=\"Tanuja\" #instance variable\n",
    "        \n",
    "e=employee()  #e is object reference  variable\n",
    "print(e.__dict__)  #dict prints pair of values directly"
   ]
  },
  {
   "cell_type": "markdown",
   "metadata": {},
   "source": [
    "### b. Inside the instance method by using self variable"
   ]
  },
  {
   "cell_type": "code",
   "execution_count": 5,
   "metadata": {},
   "outputs": [
    {
     "name": "stdout",
     "output_type": "stream",
     "text": [
      "{'a': 10, 'b': 20, 'c': 30}\n"
     ]
    }
   ],
   "source": [
    "class test:\n",
    "    def __init__(self):\n",
    "        self.a=10\n",
    "        self.b=20\n",
    "    def m(self):  #method in which parameter is self is instance method\n",
    "        self.c=30 #instance variable inside instance method\n",
    "t=test()\n",
    "t.m()\n",
    "print(t.__dict__)"
   ]
  },
  {
   "cell_type": "code",
   "execution_count": 7,
   "metadata": {},
   "outputs": [
    {
     "name": "stdout",
     "output_type": "stream",
     "text": [
      "{'a': 10, 'b': 20, 'c': 30}\n",
      "{'a': 10, 'b': 20}\n"
     ]
    }
   ],
   "source": [
    "class test:\n",
    "    def __init__(self):\n",
    "        self.a=10\n",
    "        self.b=20\n",
    "    def m(self):  #method in which parameter is self is instance method\n",
    "        self.c=30 #instance variable inside instance method\n",
    "t=test()\n",
    "t1=test()\n",
    "t.m()\n",
    "print(t.__dict__)\n",
    "print(t1.__dict__)"
   ]
  },
  {
   "cell_type": "code",
   "execution_count": 8,
   "metadata": {},
   "outputs": [
    {
     "name": "stdout",
     "output_type": "stream",
     "text": [
      "{'a': 10, 'b': 20, 'c': 30}\n",
      "{'a': 10, 'b': 20, 'c': 30}\n"
     ]
    }
   ],
   "source": [
    "class test:\n",
    "    def __init__(self):\n",
    "        self.a=10\n",
    "        self.b=20\n",
    "    def m(self):  #method in which parameter is self is instance method\n",
    "        self.c=30 #instance variable inside instance method\n",
    "t=test()\n",
    "t1=test()\n",
    "t.m()\n",
    "t1.m()\n",
    "print(t.__dict__)\n",
    "print(t1.__dict__)"
   ]
  },
  {
   "cell_type": "markdown",
   "metadata": {},
   "source": [
    "### c. Outside of the class by using object reference variable"
   ]
  },
  {
   "cell_type": "code",
   "execution_count": 9,
   "metadata": {},
   "outputs": [
    {
     "name": "stdout",
     "output_type": "stream",
     "text": [
      "{'a': 10, 'b': 20, 'c': 30, 'd': 40}\n"
     ]
    }
   ],
   "source": [
    "class test:\n",
    "    def __init__(self):\n",
    "        self.a=10\n",
    "        self.b=20\n",
    "    def m(self):\n",
    "        self.c=30\n",
    "t=test()\n",
    "t.m()\n",
    "t.d=40\n",
    "print(t.__dict__)"
   ]
  },
  {
   "cell_type": "markdown",
   "metadata": {},
   "source": [
    "## Accessing of instance variables"
   ]
  },
  {
   "cell_type": "code",
   "execution_count": 1,
   "metadata": {},
   "outputs": [
    {
     "name": "stdout",
     "output_type": "stream",
     "text": [
      "10\n",
      "20\n"
     ]
    }
   ],
   "source": [
    "#accessing of instance variables from inside of instance method\n",
    "class test:\n",
    "    def __init__(self):\n",
    "        self.a=10\n",
    "        self.b=20\n",
    "    def m(self):\n",
    "        self.c=30\n",
    "        print(self.a)\n",
    "        print(self.b)\n",
    "t=test()\n",
    "t.m()"
   ]
  },
  {
   "cell_type": "code",
   "execution_count": 14,
   "metadata": {},
   "outputs": [
    {
     "name": "stdout",
     "output_type": "stream",
     "text": [
      "10 20 30\n"
     ]
    }
   ],
   "source": [
    "class test:\n",
    "    def __init__(self):\n",
    "        self.a=10\n",
    "        self.b=20\n",
    "    def m(self):\n",
    "        self.c=30\n",
    "        print(self.a,self.b,self.c)\n",
    "t=test()\n",
    "t.m()"
   ]
  },
  {
   "cell_type": "code",
   "execution_count": 13,
   "metadata": {},
   "outputs": [
    {
     "name": "stdout",
     "output_type": "stream",
     "text": [
      "10 20 30\n"
     ]
    }
   ],
   "source": [
    "#accessing of instance variables from outside of the class\n",
    "class test:\n",
    "    def __init__(self):\n",
    "        self.a=10\n",
    "        self.b=20\n",
    "    def m(self):\n",
    "        self.c=30\n",
    "        \n",
    "t=test()\n",
    "t.m()\n",
    "print(t.a,t.b,t.c)"
   ]
  },
  {
   "cell_type": "markdown",
   "metadata": {},
   "source": [
    "## How to delete instance variables from the object"
   ]
  },
  {
   "cell_type": "markdown",
   "metadata": {},
   "source": [
    "1. Within the class we can delete instance variables with the help of self\n",
    "\n",
    "syntax: del self.variablename\n",
    "2. From outside of the class with the help of object reference variable\n",
    "\n",
    "syntax: del objectreferencevariable.variablename"
   ]
  },
  {
   "cell_type": "code",
   "execution_count": 6,
   "metadata": {},
   "outputs": [
    {
     "name": "stdout",
     "output_type": "stream",
     "text": [
      "{'a': 10, 'b': 20, 'c': 30, 'd': 40}\n",
      "{'a': 10, 'b': 20, 'c': 30, 'd': 40, 'e': 50}\n"
     ]
    }
   ],
   "source": [
    "#example pgm to delete instance variables from inside class and outside class\n",
    "class test:\n",
    "    def __init__(self):\n",
    "        self.a=10\n",
    "        self.b=20\n",
    "        self.c=30\n",
    "        self.d=40\n",
    "    def m(self):\n",
    "        self.e=50\n",
    "    \n",
    "t=test()\n",
    "print(t.__dict__)\n",
    "t.m()\n",
    "print(t.__dict__)"
   ]
  },
  {
   "cell_type": "code",
   "execution_count": 7,
   "metadata": {},
   "outputs": [
    {
     "name": "stdout",
     "output_type": "stream",
     "text": [
      "{'a': 10, 'b': 20, 'c': 30, 'd': 40}\n",
      "{'a': 10, 'b': 20, 'c': 30, 'd': 40, 'e': 50}\n",
      "{'a': 10, 'b': 20, 'c': 30, 'e': 50}\n"
     ]
    }
   ],
   "source": [
    "#example pgm to delete instance variables from inside class and outside class\n",
    "class test:\n",
    "    def __init__(self):\n",
    "        self.a=10\n",
    "        self.b=20\n",
    "        self.c=30\n",
    "        self.d=40\n",
    "    def m(self):\n",
    "        self.e=50\n",
    "    \n",
    "t=test()\n",
    "print(t.__dict__)\n",
    "t.m()\n",
    "print(t.__dict__)\n",
    "del t.d   #deleting instance variable from outside of the class with the help of object reference variable\n",
    "print(t.__dict__)"
   ]
  },
  {
   "cell_type": "code",
   "execution_count": 8,
   "metadata": {},
   "outputs": [
    {
     "name": "stdout",
     "output_type": "stream",
     "text": [
      "{'a': 10, 'b': 20, 'c': 30, 'd': 40}\n",
      "{'a': 10, 'b': 20, 'c': 30}\n"
     ]
    }
   ],
   "source": [
    "#example pgm to delete instance variables from inside class and outside class\n",
    "class test:\n",
    "    def __init__(self):\n",
    "        self.a=10\n",
    "        self.b=20\n",
    "        self.c=30\n",
    "        self.d=40\n",
    "    def m(self):\n",
    "        del self.d  #deleting instance variable from inside of the class using self variable\n",
    "    \n",
    "t=test()\n",
    "print(t.__dict__)\n",
    "t.m()\n",
    "print(t.__dict__)"
   ]
  },
  {
   "cell_type": "code",
   "execution_count": 9,
   "metadata": {},
   "outputs": [
    {
     "name": "stdout",
     "output_type": "stream",
     "text": [
      "{'a': 10, 'b': 20, 'c': 30}\n",
      "{'a': 10, 'b': 20, 'c': 30, 'e': 50}\n"
     ]
    }
   ],
   "source": [
    "#example pgm to delete instance variables from inside class and outside class\n",
    "class test:\n",
    "    def __init__(self):\n",
    "        self.a=10\n",
    "        self.b=20\n",
    "        self.c=30\n",
    "        self.d=40\n",
    "        del self.d\n",
    "    def m(self):\n",
    "        self.e=50\n",
    "    \n",
    "t=test()\n",
    "print(t.__dict__)\n",
    "t.m()\n",
    "print(t.__dict__)"
   ]
  },
  {
   "cell_type": "code",
   "execution_count": 11,
   "metadata": {},
   "outputs": [
    {
     "name": "stdout",
     "output_type": "stream",
     "text": [
      "{'a': 10, 'c': 30}\n",
      "{'a': 10, 'c': 30}\n"
     ]
    }
   ],
   "source": [
    "#example pgm to delete instance variables from inside class and outside class\n",
    "class test:\n",
    "    def __init__(self):\n",
    "        self.a=10\n",
    "        self.b=20\n",
    "        self.c=30\n",
    "        self.d=40\n",
    "        del self.d,self.b\n",
    "        \n",
    "    def m(self):\n",
    "        self.e=50\n",
    "        del self.e\n",
    "    \n",
    "t=test()\n",
    "print(t.__dict__)\n",
    "t.m()\n",
    "print(t.__dict__)"
   ]
  },
  {
   "cell_type": "code",
   "execution_count": 15,
   "metadata": {},
   "outputs": [
    {
     "name": "stdout",
     "output_type": "stream",
     "text": [
      "{'a': 10, 'b': 20, 'c': 30, 'd': 40}\n",
      "{'a': 10, 'b': 20, 'c': 30, 'd': 40}\n",
      "{'b': 20, 'c': 30, 'd': 40}\n",
      "{'a': 10, 'b': 20, 'c': 30, 'd': 40}\n"
     ]
    }
   ],
   "source": [
    "#example pgm to delete instance variables from inside class and outside class\n",
    "class test:\n",
    "    def __init__(self):\n",
    "        self.a=10\n",
    "        self.b=20\n",
    "        self.c=30\n",
    "        self.d=40\n",
    "        \n",
    "    def m(self):\n",
    "        self.e=50\n",
    "    \n",
    "t1=test()\n",
    "t2=test()\n",
    "print(t1.__dict__)\n",
    "print(t2.__dict__)\n",
    "del t1.a\n",
    "print(t1.__dict__)\n",
    "print(t2.__dict__)\n",
    "t.m()\n",
    "#print(t.__dict__)"
   ]
  },
  {
   "cell_type": "markdown",
   "metadata": {},
   "source": [
    "1. When we create two objects for same class, then a separate copy of instance variables will be created.\n",
    "2. When we change or delete instance variable of one object it will not reflect on other object."
   ]
  },
  {
   "cell_type": "code",
   "execution_count": 16,
   "metadata": {},
   "outputs": [
    {
     "name": "stdout",
     "output_type": "stream",
     "text": [
      "{'a': 10, 'b': 20, 'c': 30, 'd': 40}\n",
      "{'a': 10, 'b': 20, 'c': 30, 'd': 40}\n",
      "{'a': 10, 'b': 20, 'c': 30, 'd': 40}\n",
      "{'b': 20, 'c': 30, 'd': 40}\n"
     ]
    }
   ],
   "source": [
    "#example pgm to delete instance variables from inside class and outside class\n",
    "class test:\n",
    "    def __init__(self):\n",
    "        self.a=10\n",
    "        self.b=20\n",
    "        self.c=30\n",
    "        self.d=40\n",
    "        \n",
    "    def m(self):\n",
    "        self.e=50\n",
    "    \n",
    "t1=test()\n",
    "t2=test()\n",
    "print(t1.__dict__)\n",
    "print(t2.__dict__)\n",
    "del t2.a\n",
    "print(t1.__dict__)\n",
    "print(t2.__dict__)\n",
    "t.m()\n",
    "#print(t.__dict__)"
   ]
  },
  {
   "cell_type": "code",
   "execution_count": 17,
   "metadata": {},
   "outputs": [
    {
     "name": "stdout",
     "output_type": "stream",
     "text": [
      "{'a': 10, 'b': 20, 'c': 30, 'd': 40}\n",
      "{'a': 10, 'b': 20, 'c': 30, 'd': 40}\n",
      "{'a': 10, 'b': 888, 'c': 30, 'd': 40}\n",
      "{'a': 999, 'b': 20, 'c': 30, 'd': 40}\n"
     ]
    }
   ],
   "source": [
    "#example pgm to modify instance variables from outside class\n",
    "class test:\n",
    "    def __init__(self):\n",
    "        self.a=10\n",
    "        self.b=20\n",
    "        self.c=30\n",
    "        self.d=40\n",
    "        \n",
    "    def m(self):\n",
    "        self.e=50\n",
    "    \n",
    "t1=test()\n",
    "t2=test()\n",
    "print(t1.__dict__)\n",
    "print(t2.__dict__)\n",
    "t2.a=999\n",
    "t1.b=888\n",
    "print(t1.__dict__)\n",
    "print(t2.__dict__)\n",
    "t.m()\n",
    "#print(t.__dict__)"
   ]
  },
  {
   "cell_type": "markdown",
   "metadata": {},
   "source": [
    "## 2. Static Variables"
   ]
  },
  {
   "cell_type": "markdown",
   "metadata": {},
   "source": [
    "1. If the value of variable is not varied from object to object is called Static Variable.\n",
    "2. Static Variables will be created inside the class but outside of inner methods(constructor & methods).\n",
    "3. We can access the static variables either with class name or object reference."
   ]
  },
  {
   "cell_type": "code",
   "execution_count": 18,
   "metadata": {},
   "outputs": [
    {
     "name": "stdout",
     "output_type": "stream",
     "text": [
      "10 20\n",
      "10 20\n",
      "888 999\n",
      "888 20\n"
     ]
    }
   ],
   "source": [
    "class test:\n",
    "    x=10\n",
    "    def __init__(self):\n",
    "        self.y=20\n",
    "t1=test()\n",
    "t2=test()\n",
    "print(t1.x,t1.y)\n",
    "print(t2.x,t2.y)\n",
    "test.x=888\n",
    "t1.y=999\n",
    "print(t1.x,t1.y)\n",
    "print(t2.x,t2.y)"
   ]
  },
  {
   "cell_type": "markdown",
   "metadata": {},
   "source": [
    "## Declaring of static variable in different places"
   ]
  },
  {
   "cell_type": "markdown",
   "metadata": {},
   "source": [
    "1. We declare the static variable inside the class but outside of the methods\n",
    "2. Inside of the constructor by using classname\n",
    "3. Inside of instance method by using classname\n",
    "4. Inside class method using either classname or cls variable\n",
    "5. Inside static method by using classname"
   ]
  },
  {
   "cell_type": "markdown",
   "metadata": {},
   "source": [
    "### 1. We declare static variable inside the class but outside of the methods"
   ]
  },
  {
   "cell_type": "code",
   "execution_count": 19,
   "metadata": {},
   "outputs": [
    {
     "name": "stdout",
     "output_type": "stream",
     "text": [
      "10 20\n",
      "10 20\n",
      "888 999\n",
      "888 20\n"
     ]
    }
   ],
   "source": [
    "class test:\n",
    "    x=10\n",
    "    def __init__(self):\n",
    "        self.y=20\n",
    "t1=test()\n",
    "t2=test()\n",
    "print(t1.x,t1.y)\n",
    "print(t2.x,t2.y)\n",
    "test.x=888\n",
    "t1.y=999\n",
    "print(t1.x,t1.y)\n",
    "print(t2.x,t2.y)"
   ]
  },
  {
   "cell_type": "code",
   "execution_count": 24,
   "metadata": {},
   "outputs": [
    {
     "name": "stdout",
     "output_type": "stream",
     "text": [
      "{'__module__': '__main__', 'a': 10, '__init__': <function test.__init__ at 0x000002D15D7F9820>, 'm1': <function test.m1 at 0x000002D15D7F9550>, 'm2': <classmethod object at 0x000002D15D81D4F0>, 'm3': <staticmethod object at 0x000002D15D81DBE0>, '__dict__': <attribute '__dict__' of 'test' objects>, '__weakref__': <attribute '__weakref__' of 'test' objects>, '__doc__': None}\n",
      "{'__module__': '__main__', 'a': 10, '__init__': <function test.__init__ at 0x000002D15D7F9820>, 'm1': <function test.m1 at 0x000002D15D7F9550>, 'm2': <classmethod object at 0x000002D15D81D4F0>, 'm3': <staticmethod object at 0x000002D15D81DBE0>, '__dict__': <attribute '__dict__' of 'test' objects>, '__weakref__': <attribute '__weakref__' of 'test' objects>, '__doc__': None, 'b': 20}\n",
      "{'__module__': '__main__', 'a': 10, '__init__': <function test.__init__ at 0x000002D15D7F9820>, 'm1': <function test.m1 at 0x000002D15D7F9550>, 'm2': <classmethod object at 0x000002D15D81D4F0>, 'm3': <staticmethod object at 0x000002D15D81DBE0>, '__dict__': <attribute '__dict__' of 'test' objects>, '__weakref__': <attribute '__weakref__' of 'test' objects>, '__doc__': None, 'b': 20, 'c': 30}\n"
     ]
    }
   ],
   "source": [
    "#example pgm for static variable in different places\n",
    "class test:\n",
    "    a=10  #inside the class but outside of methods\n",
    "    def __init__(self):\n",
    "        test.b=20  #inside the constructor by using class name\n",
    "    def m1(self):\n",
    "        test.c=30  #inside instance method by using class name\n",
    "    @classmethod\n",
    "    def m2(cls):\n",
    "        cls.d=40  #inside of class method by using cls variable\n",
    "        test.e=50 #inside class method by using class name\n",
    "    @staticmethod\n",
    "    def m3():\n",
    "        test.f=60  #inside static method by using classname\n",
    "\n",
    "print(test.__dict__)\n",
    "t=test()\n",
    "print(test.__dict__)\n",
    "t.m1()\n",
    "print(test.__dict__)\n",
    "t.m2()\n",
    "t.m3()\n",
    "test.g=60"
   ]
  },
  {
   "cell_type": "code",
   "execution_count": 25,
   "metadata": {},
   "outputs": [
    {
     "name": "stdout",
     "output_type": "stream",
     "text": [
      "{'__module__': '__main__', 'a': 10, '__init__': <function test.__init__ at 0x000002D15D828940>, 'm1': <function test.m1 at 0x000002D15D8288B0>, 'm2': <classmethod object at 0x000002D15D81D130>, 'm3': <staticmethod object at 0x000002D15D81DE20>, '__dict__': <attribute '__dict__' of 'test' objects>, '__weakref__': <attribute '__weakref__' of 'test' objects>, '__doc__': None}\n",
      "{'__module__': '__main__', 'a': 10, '__init__': <function test.__init__ at 0x000002D15D828940>, 'm1': <function test.m1 at 0x000002D15D8288B0>, 'm2': <classmethod object at 0x000002D15D81D130>, 'm3': <staticmethod object at 0x000002D15D81DE20>, '__dict__': <attribute '__dict__' of 'test' objects>, '__weakref__': <attribute '__weakref__' of 'test' objects>, '__doc__': None, 'b': 20}\n",
      "{'__module__': '__main__', 'a': 10, '__init__': <function test.__init__ at 0x000002D15D828940>, 'm1': <function test.m1 at 0x000002D15D8288B0>, 'm2': <classmethod object at 0x000002D15D81D130>, 'm3': <staticmethod object at 0x000002D15D81DE20>, '__dict__': <attribute '__dict__' of 'test' objects>, '__weakref__': <attribute '__weakref__' of 'test' objects>, '__doc__': None, 'b': 20, 'c': 30}\n"
     ]
    },
    {
     "ename": "NameError",
     "evalue": "name 'self' is not defined",
     "output_type": "error",
     "traceback": [
      "\u001b[1;31m---------------------------------------------------------------------------\u001b[0m",
      "\u001b[1;31mNameError\u001b[0m                                 Traceback (most recent call last)",
      "\u001b[1;32m<ipython-input-25-a89d712d4ae6>\u001b[0m in \u001b[0;36m<module>\u001b[1;34m\u001b[0m\n\u001b[0;32m     20\u001b[0m \u001b[0mt\u001b[0m\u001b[1;33m.\u001b[0m\u001b[0mm1\u001b[0m\u001b[1;33m(\u001b[0m\u001b[1;33m)\u001b[0m\u001b[1;33m\u001b[0m\u001b[1;33m\u001b[0m\u001b[0m\n\u001b[0;32m     21\u001b[0m \u001b[0mprint\u001b[0m\u001b[1;33m(\u001b[0m\u001b[0mtest\u001b[0m\u001b[1;33m.\u001b[0m\u001b[0m__dict__\u001b[0m\u001b[1;33m)\u001b[0m\u001b[1;33m\u001b[0m\u001b[1;33m\u001b[0m\u001b[0m\n\u001b[1;32m---> 22\u001b[1;33m \u001b[0mt\u001b[0m\u001b[1;33m.\u001b[0m\u001b[0mm2\u001b[0m\u001b[1;33m(\u001b[0m\u001b[1;33m)\u001b[0m\u001b[1;33m\u001b[0m\u001b[1;33m\u001b[0m\u001b[0m\n\u001b[0m\u001b[0;32m     23\u001b[0m \u001b[0mt\u001b[0m\u001b[1;33m.\u001b[0m\u001b[0mm3\u001b[0m\u001b[1;33m(\u001b[0m\u001b[1;33m)\u001b[0m\u001b[1;33m\u001b[0m\u001b[1;33m\u001b[0m\u001b[0m\n\u001b[0;32m     24\u001b[0m \u001b[0mtest\u001b[0m\u001b[1;33m.\u001b[0m\u001b[0mg\u001b[0m\u001b[1;33m=\u001b[0m\u001b[1;36m60\u001b[0m\u001b[1;33m\u001b[0m\u001b[1;33m\u001b[0m\u001b[0m\n",
      "\u001b[1;32m<ipython-input-25-a89d712d4ae6>\u001b[0m in \u001b[0;36mm2\u001b[1;34m(cls)\u001b[0m\n\u001b[0;32m      8\u001b[0m     \u001b[1;33m@\u001b[0m\u001b[0mclassmethod\u001b[0m\u001b[1;33m\u001b[0m\u001b[1;33m\u001b[0m\u001b[0m\n\u001b[0;32m      9\u001b[0m     \u001b[1;32mdef\u001b[0m \u001b[0mm2\u001b[0m\u001b[1;33m(\u001b[0m\u001b[0mcls\u001b[0m\u001b[1;33m)\u001b[0m\u001b[1;33m:\u001b[0m\u001b[1;33m\u001b[0m\u001b[1;33m\u001b[0m\u001b[0m\n\u001b[1;32m---> 10\u001b[1;33m         \u001b[0mself\u001b[0m\u001b[1;33m.\u001b[0m\u001b[0md\u001b[0m\u001b[1;33m=\u001b[0m\u001b[1;36m40\u001b[0m\u001b[1;33m\u001b[0m\u001b[1;33m\u001b[0m\u001b[0m\n\u001b[0m\u001b[0;32m     11\u001b[0m         \u001b[0mcls\u001b[0m\u001b[1;33m.\u001b[0m\u001b[0md\u001b[0m\u001b[1;33m=\u001b[0m\u001b[1;36m40\u001b[0m  \u001b[1;31m#inside of class method by using cls variable\u001b[0m\u001b[1;33m\u001b[0m\u001b[1;33m\u001b[0m\u001b[0m\n\u001b[0;32m     12\u001b[0m         \u001b[0mtest\u001b[0m\u001b[1;33m.\u001b[0m\u001b[0me\u001b[0m\u001b[1;33m=\u001b[0m\u001b[1;36m50\u001b[0m \u001b[1;31m#inside class method by using class name\u001b[0m\u001b[1;33m\u001b[0m\u001b[1;33m\u001b[0m\u001b[0m\n",
      "\u001b[1;31mNameError\u001b[0m: name 'self' is not defined"
     ]
    }
   ],
   "source": [
    "#example pgm for static variable in different places\n",
    "class test:\n",
    "    a=10  #inside the class but outside of methods\n",
    "    def __init__(self):\n",
    "        test.b=20  #inside the constructor by using class name\n",
    "    def m1(self):\n",
    "        test.c=30  #inside instance method by using class name\n",
    "    @classmethod\n",
    "    def m2(cls):\n",
    "        self.d=40\n",
    "        cls.d=40  #inside of class method by using cls variable\n",
    "        test.e=50 #inside class method by using class name\n",
    "    @staticmethod\n",
    "    def m3():\n",
    "        test.f=60  #inside static method by using classname\n",
    "\n",
    "print(test.__dict__)\n",
    "t=test()\n",
    "print(test.__dict__)\n",
    "t.m1()\n",
    "print(test.__dict__)\n",
    "t.m2()\n",
    "t.m3()\n",
    "test.g=60"
   ]
  },
  {
   "cell_type": "markdown",
   "metadata": {},
   "source": [
    "## Accessing of Static Variables"
   ]
  },
  {
   "cell_type": "markdown",
   "metadata": {},
   "source": [
    "1. Inside of the constructor: by using classname or self variable.\n",
    "2. Inside of instance method: by using classname or self variable.\n",
    "3. Inside classmethod: by using classname or cls variable.\n",
    "4. Inside staticmethod: by using classname.\n",
    "5. Outside of class: by using classname or object reference.    "
   ]
  },
  {
   "cell_type": "code",
   "execution_count": 28,
   "metadata": {},
   "outputs": [
    {
     "name": "stdout",
     "output_type": "stream",
     "text": [
      "Inside constructor with self: 10\n",
      "Inside constructor with classname: 10\n",
      "Outside of class with object reference: 10\n",
      "Outside of class with class name: 10\n",
      "Inside instance method with self: 10\n",
      "Inside instance method with classname: 10\n",
      "Inside class method with cls variable: 10\n",
      "Inside class method with classname: 10\n",
      "Inside staticmethod with classname: 10\n"
     ]
    }
   ],
   "source": [
    "class test:\n",
    "    a=10\n",
    "    def __init__(self):\n",
    "        print(\"Inside constructor with self:\",self.a)\n",
    "        print(\"Inside constructor with classname:\",test.a)\n",
    "    def m1(self):\n",
    "        print(\"Inside instance method with self:\",self.a)\n",
    "        print(\"Inside instance method with classname:\",test.a)\n",
    "    @classmethod\n",
    "    def m2(cls):\n",
    "        print(\"Inside class method with cls variable:\",cls.a)\n",
    "        print(\"Inside class method with classname:\",test.a)\n",
    "    @staticmethod\n",
    "    def m3():\n",
    "        print(\"Inside staticmethod with classname:\",test.a)\n",
    "t=test()\n",
    "print(\"Outside of class with object reference:\",t.a)\n",
    "print(\"Outside of class with class name:\",test.a)\n",
    "\n",
    "t.m1()\n",
    "t.m2()\n",
    "t.m3()"
   ]
  },
  {
   "cell_type": "markdown",
   "metadata": {},
   "source": [
    "## Modifying the values of static variable in different places"
   ]
  },
  {
   "cell_type": "code",
   "execution_count": 32,
   "metadata": {},
   "outputs": [
    {
     "name": "stdout",
     "output_type": "stream",
     "text": [
      "10\n",
      "Modified value of a inside classmethod: 888\n",
      "Modified value of a inside staticmethod: 999\n",
      "Modified value of a inside constructor: 666\n",
      "666\n"
     ]
    }
   ],
   "source": [
    "#when u want to modify value of static variable anywhere in the class or outside of the class with the help of classname \n",
    "#except inside of class method, inside class method with cls variable we can modify the value of static variable.\n",
    "class test:\n",
    "    a=10\n",
    "    def __init__(self):\n",
    "        test.a=666\n",
    "        print(\"Modified value of a inside constructor:\",test.a)\n",
    "    @classmethod\n",
    "    def m1(cls):\n",
    "        cls.a=888\n",
    "        print(\"Modified value of a inside classmethod:\",cls.a)\n",
    "\n",
    "    @staticmethod\n",
    "    def m2():\n",
    "        test.a=999\n",
    "        print(\"Modified value of a inside staticmethod:\",test.a)\n",
    "\n",
    "print(test.a)\n",
    "test.m1()\n",
    "test.m2()\n",
    "t=test()\n",
    "print(test.a)"
   ]
  },
  {
   "cell_type": "markdown",
   "metadata": {},
   "source": [
    "## How to delete Static Variable of class"
   ]
  },
  {
   "cell_type": "code",
   "execution_count": 33,
   "metadata": {},
   "outputs": [
    {
     "name": "stdout",
     "output_type": "stream",
     "text": [
      "10\n"
     ]
    }
   ],
   "source": [
    "class test:\n",
    "    a=10\n",
    "    def __init__(self):\n",
    "        del test.a\n",
    "print(test.a)"
   ]
  },
  {
   "cell_type": "code",
   "execution_count": 36,
   "metadata": {},
   "outputs": [
    {
     "name": "stdout",
     "output_type": "stream",
     "text": [
      "10\n"
     ]
    }
   ],
   "source": [
    "class test:\n",
    "    a=10\n",
    "    def __init__(self):\n",
    "        del test.a\n",
    "print(test.a)\n",
    "t=test()"
   ]
  },
  {
   "cell_type": "code",
   "execution_count": 37,
   "metadata": {},
   "outputs": [
    {
     "name": "stdout",
     "output_type": "stream",
     "text": [
      "10\n"
     ]
    },
    {
     "ename": "AttributeError",
     "evalue": "type object 'test' has no attribute 'a'",
     "output_type": "error",
     "traceback": [
      "\u001b[1;31m---------------------------------------------------------------------------\u001b[0m",
      "\u001b[1;31mAttributeError\u001b[0m                            Traceback (most recent call last)",
      "\u001b[1;32m<ipython-input-37-e1e103d1570f>\u001b[0m in \u001b[0;36m<module>\u001b[1;34m\u001b[0m\n\u001b[0;32m      5\u001b[0m \u001b[0mprint\u001b[0m\u001b[1;33m(\u001b[0m\u001b[0mtest\u001b[0m\u001b[1;33m.\u001b[0m\u001b[0ma\u001b[0m\u001b[1;33m)\u001b[0m\u001b[1;33m\u001b[0m\u001b[1;33m\u001b[0m\u001b[0m\n\u001b[0;32m      6\u001b[0m \u001b[0mt\u001b[0m\u001b[1;33m=\u001b[0m\u001b[0mtest\u001b[0m\u001b[1;33m(\u001b[0m\u001b[1;33m)\u001b[0m\u001b[1;33m\u001b[0m\u001b[1;33m\u001b[0m\u001b[0m\n\u001b[1;32m----> 7\u001b[1;33m \u001b[0mprint\u001b[0m\u001b[1;33m(\u001b[0m\u001b[0mtest\u001b[0m\u001b[1;33m.\u001b[0m\u001b[0ma\u001b[0m\u001b[1;33m)\u001b[0m\u001b[1;33m\u001b[0m\u001b[1;33m\u001b[0m\u001b[0m\n\u001b[0m",
      "\u001b[1;31mAttributeError\u001b[0m: type object 'test' has no attribute 'a'"
     ]
    }
   ],
   "source": [
    "#deletion of static variable inside constructor using classname\n",
    "class test:\n",
    "    a=10\n",
    "    def __init__(self):\n",
    "        del test.a\n",
    "print(test.a)\n",
    "t=test()\n",
    "print(test.a)"
   ]
  },
  {
   "cell_type": "code",
   "execution_count": 40,
   "metadata": {},
   "outputs": [
    {
     "name": "stdout",
     "output_type": "stream",
     "text": [
      "10\n"
     ]
    }
   ],
   "source": [
    "class test:\n",
    "    a=10\n",
    "    def __init__(self):\n",
    "        self.b=20\n",
    "    def m(self):\n",
    "        del test.a\n",
    "print(test.a)\n",
    "t=test()\n",
    "t.m()"
   ]
  },
  {
   "cell_type": "code",
   "execution_count": 41,
   "metadata": {},
   "outputs": [
    {
     "name": "stdout",
     "output_type": "stream",
     "text": [
      "10\n"
     ]
    },
    {
     "ename": "AttributeError",
     "evalue": "'test' object has no attribute 'a'",
     "output_type": "error",
     "traceback": [
      "\u001b[1;31m---------------------------------------------------------------------------\u001b[0m",
      "\u001b[1;31mAttributeError\u001b[0m                            Traceback (most recent call last)",
      "\u001b[1;32m<ipython-input-41-d1cbfddbdde6>\u001b[0m in \u001b[0;36m<module>\u001b[1;34m\u001b[0m\n\u001b[0;32m      8\u001b[0m \u001b[0mt\u001b[0m\u001b[1;33m=\u001b[0m\u001b[0mtest\u001b[0m\u001b[1;33m(\u001b[0m\u001b[1;33m)\u001b[0m\u001b[1;33m\u001b[0m\u001b[1;33m\u001b[0m\u001b[0m\n\u001b[0;32m      9\u001b[0m \u001b[0mt\u001b[0m\u001b[1;33m.\u001b[0m\u001b[0mm\u001b[0m\u001b[1;33m(\u001b[0m\u001b[1;33m)\u001b[0m\u001b[1;33m\u001b[0m\u001b[1;33m\u001b[0m\u001b[0m\n\u001b[1;32m---> 10\u001b[1;33m \u001b[0mprint\u001b[0m\u001b[1;33m(\u001b[0m\u001b[0mt\u001b[0m\u001b[1;33m.\u001b[0m\u001b[0ma\u001b[0m\u001b[1;33m)\u001b[0m\u001b[1;33m\u001b[0m\u001b[1;33m\u001b[0m\u001b[0m\n\u001b[0m",
      "\u001b[1;31mAttributeError\u001b[0m: 'test' object has no attribute 'a'"
     ]
    }
   ],
   "source": [
    "#deletion of static variable inside of instance method using classname\n",
    "class test:\n",
    "    a=10\n",
    "    def __init__(self):\n",
    "        self.b=20\n",
    "    def m(self):\n",
    "        del test.a\n",
    "print(test.a)\n",
    "t=test()\n",
    "t.m()\n",
    "print(t.a)"
   ]
  },
  {
   "cell_type": "code",
   "execution_count": 42,
   "metadata": {},
   "outputs": [
    {
     "name": "stdout",
     "output_type": "stream",
     "text": [
      "10\n"
     ]
    },
    {
     "ename": "AttributeError",
     "evalue": "'test' object has no attribute 'a'",
     "output_type": "error",
     "traceback": [
      "\u001b[1;31m---------------------------------------------------------------------------\u001b[0m",
      "\u001b[1;31mAttributeError\u001b[0m                            Traceback (most recent call last)",
      "\u001b[1;32m<ipython-input-42-cbbb0c7f94c5>\u001b[0m in \u001b[0;36m<module>\u001b[1;34m\u001b[0m\n\u001b[0;32m      8\u001b[0m \u001b[0mt\u001b[0m\u001b[1;33m=\u001b[0m\u001b[0mtest\u001b[0m\u001b[1;33m(\u001b[0m\u001b[1;33m)\u001b[0m\u001b[1;33m\u001b[0m\u001b[1;33m\u001b[0m\u001b[0m\n\u001b[0;32m      9\u001b[0m \u001b[0mt\u001b[0m\u001b[1;33m.\u001b[0m\u001b[0mm\u001b[0m\u001b[1;33m(\u001b[0m\u001b[1;33m)\u001b[0m\u001b[1;33m\u001b[0m\u001b[1;33m\u001b[0m\u001b[0m\n\u001b[1;32m---> 10\u001b[1;33m \u001b[0mprint\u001b[0m\u001b[1;33m(\u001b[0m\u001b[0mt\u001b[0m\u001b[1;33m.\u001b[0m\u001b[0ma\u001b[0m\u001b[1;33m)\u001b[0m\u001b[1;33m\u001b[0m\u001b[1;33m\u001b[0m\u001b[0m\n\u001b[0m",
      "\u001b[1;31mAttributeError\u001b[0m: 'test' object has no attribute 'a'"
     ]
    }
   ],
   "source": [
    "#deletion of static variable inside classmethod using cls variable\n",
    "class test:\n",
    "    a=10\n",
    "    @classmethod\n",
    "    def m(cls):\n",
    "        del cls.a\n",
    "print(test.a)\n",
    "t=test()\n",
    "t.m()\n",
    "print(t.a)"
   ]
  },
  {
   "cell_type": "code",
   "execution_count": 43,
   "metadata": {},
   "outputs": [
    {
     "name": "stdout",
     "output_type": "stream",
     "text": [
      "10\n"
     ]
    },
    {
     "ename": "AttributeError",
     "evalue": "'test' object has no attribute 'a'",
     "output_type": "error",
     "traceback": [
      "\u001b[1;31m---------------------------------------------------------------------------\u001b[0m",
      "\u001b[1;31mAttributeError\u001b[0m                            Traceback (most recent call last)",
      "\u001b[1;32m<ipython-input-43-642cc7b8c750>\u001b[0m in \u001b[0;36m<module>\u001b[1;34m\u001b[0m\n\u001b[0;32m      8\u001b[0m \u001b[0mt\u001b[0m\u001b[1;33m=\u001b[0m\u001b[0mtest\u001b[0m\u001b[1;33m(\u001b[0m\u001b[1;33m)\u001b[0m\u001b[1;33m\u001b[0m\u001b[1;33m\u001b[0m\u001b[0m\n\u001b[0;32m      9\u001b[0m \u001b[0mt\u001b[0m\u001b[1;33m.\u001b[0m\u001b[0mm\u001b[0m\u001b[1;33m(\u001b[0m\u001b[1;33m)\u001b[0m\u001b[1;33m\u001b[0m\u001b[1;33m\u001b[0m\u001b[0m\n\u001b[1;32m---> 10\u001b[1;33m \u001b[0mprint\u001b[0m\u001b[1;33m(\u001b[0m\u001b[0mt\u001b[0m\u001b[1;33m.\u001b[0m\u001b[0ma\u001b[0m\u001b[1;33m)\u001b[0m\u001b[1;33m\u001b[0m\u001b[1;33m\u001b[0m\u001b[0m\n\u001b[0m",
      "\u001b[1;31mAttributeError\u001b[0m: 'test' object has no attribute 'a'"
     ]
    }
   ],
   "source": [
    "#deletion of static variable inside staticmethod using classname\n",
    "class test:\n",
    "    a=10\n",
    "    @staticmethod\n",
    "    def m():\n",
    "        del test.a\n",
    "print(test.a)\n",
    "t=test()\n",
    "t.m()\n",
    "print(t.a)"
   ]
  },
  {
   "cell_type": "code",
   "execution_count": null,
   "metadata": {},
   "outputs": [],
   "source": []
  }
 ],
 "metadata": {
  "kernelspec": {
   "display_name": "Python 3",
   "language": "python",
   "name": "python3"
  },
  "language_info": {
   "codemirror_mode": {
    "name": "ipython",
    "version": 3
   },
   "file_extension": ".py",
   "mimetype": "text/x-python",
   "name": "python",
   "nbconvert_exporter": "python",
   "pygments_lexer": "ipython3",
   "version": "3.8.3"
  }
 },
 "nbformat": 4,
 "nbformat_minor": 4
}
